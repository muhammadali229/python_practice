{
 "cells": [
  {
   "cell_type": "code",
   "execution_count": 2,
   "id": "fcc86ef7",
   "metadata": {},
   "outputs": [],
   "source": [
    "# 1. Two Sum\n",
    "\n",
    "# Given an array of integers nums and an integer target, return indices of the two numbers such that they add up to target.\n",
    "\n",
    "# You may assume that each input would have exactly one solution, and you may not use the same element twice.\n",
    "\n",
    "# You can return the answer in any order.\n",
    "\n",
    " \n",
    "\n",
    "# Example 1:\n",
    "\n",
    "# Input: nums = [2,7,11,15], target = 9\n",
    "# Output: [0,1]\n",
    "# Explanation: Because nums[0] + nums[1] == 9, we return [0, 1].\n",
    "# Example 2:\n",
    "\n",
    "# Input: nums = [3,2,4], target = 6\n",
    "# Output: [1,2]\n",
    "# Example 3:\n",
    "\n",
    "# Input: nums = [3,3], target = 6\n",
    "# Output: [0,1]\n",
    " \n",
    "\n",
    "# Constraints:\n",
    "\n",
    "# 2 <= nums.length <= 104\n",
    "# -109 <= nums[i] <= 109\n",
    "# -109 <= target <= 109"
   ]
  },
  {
   "cell_type": "code",
   "execution_count": 23,
   "id": "b5f7e43d",
   "metadata": {},
   "outputs": [
    {
     "name": "stdout",
     "output_type": "stream",
     "text": [
      "[0, 1]\n",
      "[0, 1]\n",
      "[1, 2]\n",
      "[0, 2]\n"
     ]
    }
   ],
   "source": [
    "# Solution 1\n",
    "from typing import List\n",
    "class Solution:\n",
    "    def twoSum(self, nums: List[int], target: int) -> List[int]:\n",
    "        lst = []\n",
    "        for i, val in enumerate(nums):\n",
    "            is_found = False\n",
    "            for j in range(i+1, len(nums)): \n",
    "                if val + nums[j] == target:\n",
    "                    lst.extend([i, j])\n",
    "                    is_found = True\n",
    "                    break\n",
    "                if is_found:\n",
    "                    break\n",
    "        return lst\n",
    "a = Solution()\n",
    "print(a.twoSum([2, 7, 11, 15], 9))\n",
    "print(a.twoSum([3, 3], 6))\n",
    "print(a.twoSum([3, 2, 4], 6))\n",
    "print(a.twoSum([3,2,3], 6))"
   ]
  },
  {
   "cell_type": "code",
   "execution_count": 1,
   "id": "0134404c",
   "metadata": {},
   "outputs": [
    {
     "name": "stdout",
     "output_type": "stream",
     "text": [
      "[0, 1]\n",
      "[0, 1]\n",
      "[1, 2]\n",
      "[0, 2]\n"
     ]
    }
   ],
   "source": [
    "# Solution 2\n",
    "from typing import List\n",
    "class Solution:\n",
    "    def twoSum(self, nums: List[int], target: int) -> List[int]:\n",
    "        lst = []\n",
    "        dct = {}\n",
    "        for i, v in enumerate(nums):\n",
    "            diff = target - v # 7, 2, -2, -6\n",
    "        #     print(diff)\n",
    "        #     if diff in dct: # \n",
    "            if diff in dct:\n",
    "                lst.extend([dct[diff], i])\n",
    "                break\n",
    "            dct[v] = i # 7: 0, 7: 1, 11: 2, 15, 3\n",
    "        #     print(dct)\n",
    "        return lst\n",
    "a = Solution()\n",
    "print(a.twoSum([2, 7, 11, 15], 9))\n",
    "print(a.twoSum([3, 3], 6))\n",
    "print(a.twoSum([3, 2, 4], 6))\n",
    "print(a.twoSum([3,2,3], 6))"
   ]
  },
  {
   "cell_type": "code",
   "execution_count": 2,
   "id": "5b1ed1d5",
   "metadata": {},
   "outputs": [],
   "source": [
    "# 2. Best Time to Buy and Sell Stock\n",
    "\n",
    "# You are given an array prices where prices[i] is the price of a given stock on the ith day.\n",
    "\n",
    "# You want to maximize your profit by choosing a single day to buy one stock and choosing a different day in the \n",
    "# future to sell that stock.\n",
    "\n",
    "# Return the maximum profit you can achieve from this transaction. If you cannot achieve any profit, return 0\n",
    "\n",
    "# Example 1:\n",
    "\n",
    "# Input: prices = [7,1,5,3,6,4]\n",
    "# Output: 5\n",
    "# Explanation: Buy on day 2 (price = 1) and sell on day 5 (price = 6), profit = 6-1 = 5.\n",
    "# Note that buying on day 2 and selling on day 1 is not allowed because you must buy before you sell.\n",
    "# Example 2:\n",
    "\n",
    "# Input: prices = [7,6,4,3,1]\n",
    "# Output: 0\n",
    "# Explanation: In this case, no transactions are done and the max profit = 0.\n",
    " \n",
    "\n",
    "# Constraints:\n",
    "\n",
    "# 1 <= prices.length <= 10**5\n",
    "# 0 <= prices[i] <= 10**4"
   ]
  },
  {
   "cell_type": "code",
   "execution_count": 28,
   "id": "ec326ceb",
   "metadata": {},
   "outputs": [
    {
     "name": "stdout",
     "output_type": "stream",
     "text": [
      "5\n",
      "0\n",
      "0\n",
      "3\n",
      "2\n",
      "9\n"
     ]
    }
   ],
   "source": [
    "from typing import List\n",
    "class Solution:\n",
    "    def maxProfit(self, prices: List[int]) -> int:\n",
    "        # profit = selling - buy price\n",
    "        # 1 - 7 = -6 not profit\n",
    "        # 5 - 1 = 4 proft\n",
    "        # 3 - 1 = 2 profit\n",
    "        # 6 - 1 = 5 profit\n",
    "        # 4 - 1 = 3 profit\n",
    "        # max profit is 5\n",
    "        left_buy = 0\n",
    "        right_sell = 1\n",
    "        lst = []\n",
    "        for i in range(len(prices)-1):\n",
    "#             print(right_sell, left_buy)\n",
    "            if (prices[right_sell] - prices[left_buy]) <= 0: # 7 > 1 -> true, 1 > 5 -> false \n",
    "                right_sell += 1 # 2\n",
    "                left_buy  = right_sell - 1\n",
    "            else:\n",
    "                lst.append(prices[right_sell] - prices[left_buy]) # 5 - 1 -> 4\n",
    "                right_sell += 1\n",
    "#             print(lst)\n",
    "        return 0 if len(lst) == 0 else max(lst)\n",
    "s = Solution()\n",
    "print(s.maxProfit([7, 1, 5, 3, 6, 4]))\n",
    "print(s.maxProfit([7,6,4,3,1])) # 6 - 7 = -1, 4 - 6 = -2, 3 - 4,  \n",
    "print(s.maxProfit([2, 1]))\n",
    "print(s.maxProfit([1,4,2]))\n",
    "print(s.maxProfit([2,1,2,1,0,1,2])) # 1 - 2 = -1, 2 - 1 = 1, 1 - 1 = 0\n",
    "print(s.maxProfit([1,2,4,2,5,7,2,4,9,0,9])) # 0 - 1 = -1, 9 -0 = 9  "
   ]
  },
  {
   "cell_type": "code",
   "execution_count": 1,
   "id": "a1255b40",
   "metadata": {},
   "outputs": [],
   "source": [
    "# 3. Contains Duplicate\n",
    "\n",
    "# Given an integer array nums, return true if any value appears at least twice in the array, and return false \n",
    "# if every element is distinct.\n",
    "\n",
    " \n",
    "\n",
    "# Example 1:\n",
    "\n",
    "# Input: nums = [1,2,3,1]\n",
    "# Output: true\n",
    "# Example 2:\n",
    "\n",
    "# Input: nums = [1,2,3,4]\n",
    "# Output: false\n",
    "# Example 3:\n",
    "\n",
    "# Input: nums = [1,1,1,3,3,4,3,2,4,2]\n",
    "# Output: true\n",
    " \n",
    "\n",
    "# Constraints:\n",
    "\n",
    "# 1 <= nums.length <= 105\n",
    "# -109 <= nums[i] <= 109"
   ]
  },
  {
   "cell_type": "code",
   "execution_count": 16,
   "id": "392312c7",
   "metadata": {},
   "outputs": [
    {
     "name": "stdout",
     "output_type": "stream",
     "text": [
      "True\n",
      "False\n",
      "True\n",
      "True\n"
     ]
    }
   ],
   "source": [
    "from typing import List\n",
    "class Solution:\n",
    "    def containsDuplicate2(self, nums:List[int]) -> bool:\n",
    "        return len(nums) != len(list(set(nums)))\n",
    "    def containsDuplicate(self, nums: List[int]) -> bool:\n",
    "        a = {}\n",
    "        is_duplicate = False\n",
    "        for v in nums:\n",
    "            if v in a:\n",
    "                is_duplicate = True\n",
    "                break\n",
    "#                 a[v] = True\n",
    "            else:\n",
    "                a[v] = False\n",
    "#         print(a)\n",
    "#         if True in a.values():\n",
    "#             is_duplicate = True\n",
    "        return is_duplicate\n",
    "s = Solution()\n",
    "print(s.containsDuplicate([1, 2, 3, 1]))\n",
    "print(s.containsDuplicate([1, 2, 3, 4]))\n",
    "print(s.containsDuplicate([1, 1, 1, 3, 3, 4, 3, 2, 4, 2]))\n",
    "print(\n",
    "    s.containsDuplicate([\n",
    "        7, 10, 5, 5, 6, 6, 4, 10, 5, 4, 9, 4, 9, 6, 5, 9, 6, 3, 6, 5, 6, 7, 7,\n",
    "        4, 9, 9, 10, 5, 8, 1, 8, 3, 2, 7, 5, 10, 1, 8, 5, 8, 4, 3, 6, 4, 9, 4,\n",
    "        2, 8, 3, 2, 2, 1, 5, 6, 3, 2, 6, 1, 8, 6, 2, 9, 1, 4, 5, 10, 8, 5, 10,\n",
    "        5, 10, 1, 4, 8, 3, 6, 4, 10, 9, 1, 1, 1, 2, 2, 9, 6, 6, 8, 1, 9, 2, 5,\n",
    "        5, 2, 1, 8, 5, 2, 3, 10\n",
    "    ]))"
   ]
  },
  {
   "cell_type": "code",
   "execution_count": 17,
   "id": "cc5c145b",
   "metadata": {},
   "outputs": [],
   "source": [
    "# 4. Product of Array Except Self\n",
    "\n",
    "# Given an integer array nums, return an array answer such that answer[i] is equal to the product of all \n",
    "# the elements of nums except nums[i].\n",
    "\n",
    "# The product of any prefix or suffix of nums is guaranteed to fit in a 32-bit integer.\n",
    "\n",
    "# You must write an algorithm that runs in O(n) time and without using the division operation.\n",
    "\n",
    " \n",
    "\n",
    "# Example 1:\n",
    "# Input: nums = [1,2,3,4]\n",
    "# Output: [24,12,8,6]\n",
    "\n",
    "# Example 2:\n",
    "# Input: nums = [-1,1,0,-3,3]\n",
    "# Output: [0,0,9,0,0]\n",
    " \n",
    "\n",
    "# Constraints:\n",
    "\n",
    "# 2 <= nums.length <= 10**5\n",
    "# -30 <= nums[i] <= 30\n",
    "# The product of any prefix or suffix of nums is guaranteed to fit in a 32-bit integer.\n",
    " \n",
    "\n",
    "# Follow up: Can you solve the problem in O(1) extra space complexity? (The output array does not count as extra space for space complexity analysis.)"
   ]
  },
  {
   "cell_type": "code",
   "execution_count": 63,
   "id": "3855ae44",
   "metadata": {},
   "outputs": [
    {
     "name": "stdout",
     "output_type": "stream",
     "text": [
      "[24, 12, 8, 6]\n",
      "[0, 0, 9, 0, 0]\n"
     ]
    }
   ],
   "source": [
    "from typing import List\n",
    "import math\n",
    "\n",
    "class Solution:\n",
    "    def productExceptSelf(self, nums: List[int]) -> List[int]:\n",
    "        arr = []\n",
    "        for i, v in enumerate(nums):\n",
    "            a = nums.copy()\n",
    "            del a[i]\n",
    "            arr.append(reduce(lambda x, y: x * y, a))\n",
    "        return arr\n",
    "s = Solution()\n",
    "print(s.productExceptSelf([1,2,3,4]))\n",
    "print(s.productExceptSelf([-1,1,0,-3,3]))"
   ]
  },
  {
   "cell_type": "code",
   "execution_count": null,
   "id": "fc904b3a",
   "metadata": {},
   "outputs": [],
   "source": []
  }
 ],
 "metadata": {
  "kernelspec": {
   "display_name": "Python 3 (ipykernel)",
   "language": "python",
   "name": "python3"
  },
  "language_info": {
   "codemirror_mode": {
    "name": "ipython",
    "version": 3
   },
   "file_extension": ".py",
   "mimetype": "text/x-python",
   "name": "python",
   "nbconvert_exporter": "python",
   "pygments_lexer": "ipython3",
   "version": "3.7.9"
  }
 },
 "nbformat": 4,
 "nbformat_minor": 5
}
