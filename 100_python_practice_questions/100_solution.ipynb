{
 "cells": [
  {
   "cell_type": "markdown",
   "id": "baa64306",
   "metadata": {},
   "source": [
    "## Q1. IS_ASCENDING"
   ]
  },
  {
   "cell_type": "code",
   "execution_count": 23,
   "id": "2d7b8f35",
   "metadata": {},
   "outputs": [
    {
     "name": "stdout",
     "output_type": "stream",
     "text": [
      "True\n",
      "True\n",
      "False\n",
      "True\n",
      "False\n",
      "False\n"
     ]
    }
   ],
   "source": [
    "def is_ascending(items):\n",
    "    if len(items) in (0, 1):\n",
    "        return True\n",
    "    is_max = items[0]\n",
    "    res = True\n",
    "    for item in items[1:]:\n",
    "        if item > is_max:\n",
    "            is_max = item\n",
    "        else:\n",
    "            res = False\n",
    "            break\n",
    "    return res\n",
    "print(is_ascending([])) # True\n",
    "print(is_ascending([-5, 10, 99, 123456])) # True\n",
    "print(is_ascending([2, 3, 3, 4, 5])) # False\n",
    "print(is_ascending([-99])) # True\n",
    "print(is_ascending([4, 5, 6, 7, 3, 7, 9])) # False\n",
    "print(is_ascending([1, 1, 1, 1])) # False"
   ]
  },
  {
   "cell_type": "markdown",
   "id": "e9ab2768",
   "metadata": {},
   "source": [
    "## Q2. Riffle"
   ]
  },
  {
   "cell_type": "code",
   "execution_count": 42,
   "id": "373f19df",
   "metadata": {},
   "outputs": [
    {
     "name": "stdout",
     "output_type": "stream",
     "text": [
      "[1, 5, 2, 6, 3, 7, 4, 8]\n",
      "[5, 1, 6, 2, 7, 3, 8, 4]\n",
      "[]\n",
      "['bob', 'jack']\n",
      "['jack', 'bob']\n"
     ]
    }
   ],
   "source": [
    "def riffle(items, out=True):\n",
    "    if len(items) in (0, 1):\n",
    "        return items\n",
    "    if out:\n",
    "        return [j for i in zip(items[:len(items) // 2], items[len(items) // 2:]) for j in i ]\n",
    "    else:\n",
    "        return [j for i in zip(items[len(items) // 2:], items[:len(items) // 2]) for j in i ]\n",
    "print(riffle([1, 2, 3, 4, 5, 6, 7, 8])) # [1, 5, 2, 6, 3, 7, 4, 8]\n",
    "print(riffle([1, 2, 3, 4, 5, 6, 7, 8], False)) # [5, 1, 6, 2, 7, 3, 8, 4]\n",
    "print(riffle([])) # []\n",
    "print(riffle(['bob', 'jack']))\n",
    "print(riffle(['bob', 'jack'], False))"
   ]
  },
  {
   "cell_type": "markdown",
   "id": "3030b6c1",
   "metadata": {},
   "source": [
    "## Q3. Only odd digits"
   ]
  },
  {
   "cell_type": "code",
   "execution_count": 74,
   "id": "1813b0de",
   "metadata": {},
   "outputs": [
    {
     "name": "stdout",
     "output_type": "stream",
     "text": [
      "False\n",
      "True\n",
      "False\n",
      "False\n",
      "False\n"
     ]
    }
   ],
   "source": [
    "def only_odd_digits(n):\n",
    "    return not False in [True if int(i) % 2 == 1 else False for i in list(str(n))]\n",
    "print(only_odd_digits(8))\n",
    "print(only_odd_digits(1357975313759))\n",
    "print(only_odd_digits(42))\n",
    "print(only_odd_digits(71358))\n",
    "print(only_odd_digits(0))"
   ]
  },
  {
   "cell_type": "markdown",
   "id": "5a01668f",
   "metadata": {},
   "source": [
    "## Q4. Cyclops numbers"
   ]
  },
  {
   "cell_type": "code",
   "execution_count": 106,
   "id": "0893a2b8",
   "metadata": {},
   "outputs": [
    {
     "name": "stdout",
     "output_type": "stream",
     "text": [
      "True\n",
      "True\n",
      "True\n",
      "False\n",
      "False\n",
      "False\n"
     ]
    }
   ],
   "source": [
    "def is_cyclops(n):\n",
    "    lst = [int(i) for i in list(str(n))]\n",
    "    mid_zer = len(lst) // 2 \n",
    "    return lst[mid_zer] == 0 and 0 not in lst[:mid_zer] and 0 not in lst[mid_zer+1:]\n",
    "print(is_cyclops(0))\n",
    "print(is_cyclops(101))\n",
    "print(is_cyclops(98053))\n",
    "print(is_cyclops(777888999))\n",
    "print(is_cyclops(1056))\n",
    "print(is_cyclops(675409820))"
   ]
  },
  {
   "cell_type": "markdown",
   "id": "2d88a01f",
   "metadata": {},
   "source": [
    "## Q5. Domino Cycle"
   ]
  },
  {
   "cell_type": "code",
   "execution_count": null,
   "id": "5e29a393",
   "metadata": {},
   "outputs": [],
   "source": []
  }
 ],
 "metadata": {
  "kernelspec": {
   "display_name": "Python 3 (ipykernel)",
   "language": "python",
   "name": "python3"
  },
  "language_info": {
   "codemirror_mode": {
    "name": "ipython",
    "version": 3
   },
   "file_extension": ".py",
   "mimetype": "text/x-python",
   "name": "python",
   "nbconvert_exporter": "python",
   "pygments_lexer": "ipython3",
   "version": "3.7.9"
  }
 },
 "nbformat": 4,
 "nbformat_minor": 5
}
