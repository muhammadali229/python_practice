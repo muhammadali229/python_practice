{
 "cells": [
  {
   "cell_type": "code",
   "execution_count": 3,
   "id": "09936cc2",
   "metadata": {},
   "outputs": [],
   "source": [
    "import pandas as pd\n",
    "import numpy as np"
   ]
  },
  {
   "cell_type": "code",
   "execution_count": 18,
   "id": "3207ab19",
   "metadata": {},
   "outputs": [
    {
     "name": "stdout",
     "output_type": "stream",
     "text": [
      "1.3.5\n"
     ]
    }
   ],
   "source": [
    "# 1. How to import pandas and check the version?\n",
    "print(pd.__version__)\n",
    "# print(pd.show_versions())"
   ]
  },
  {
   "cell_type": "code",
   "execution_count": 23,
   "id": "d5006b13",
   "metadata": {},
   "outputs": [],
   "source": [
    "# 2. How to create a series from a list, numpy array and dict?\n",
    "# Create a pandas series from each of the items below: a list, numpy and a dictionary\n",
    "mylist = list('abcedfghijklmnopqstuvwxyz')\n",
    "myarr = np.arange(26)\n",
    "mydict = dict(zip(mylist, myarr))\n",
    "alphabets_list = pd.Series(mylist)\n",
    "arr_df = pd.Series(myarr)\n",
    "dict_df = pd.Series(mydict)"
   ]
  },
  {
   "cell_type": "code",
   "execution_count": 32,
   "id": "a5e43dbc",
   "metadata": {},
   "outputs": [
    {
     "data": {
      "text/html": [
       "<div>\n",
       "<style scoped>\n",
       "    .dataframe tbody tr th:only-of-type {\n",
       "        vertical-align: middle;\n",
       "    }\n",
       "\n",
       "    .dataframe tbody tr th {\n",
       "        vertical-align: top;\n",
       "    }\n",
       "\n",
       "    .dataframe thead th {\n",
       "        text-align: right;\n",
       "    }\n",
       "</style>\n",
       "<table border=\"1\" class=\"dataframe\">\n",
       "  <thead>\n",
       "    <tr style=\"text-align: right;\">\n",
       "      <th></th>\n",
       "      <th>index</th>\n",
       "    </tr>\n",
       "  </thead>\n",
       "  <tbody>\n",
       "    <tr>\n",
       "      <th>0</th>\n",
       "      <td>a</td>\n",
       "    </tr>\n",
       "    <tr>\n",
       "      <th>1</th>\n",
       "      <td>b</td>\n",
       "    </tr>\n",
       "    <tr>\n",
       "      <th>2</th>\n",
       "      <td>c</td>\n",
       "    </tr>\n",
       "    <tr>\n",
       "      <th>3</th>\n",
       "      <td>e</td>\n",
       "    </tr>\n",
       "    <tr>\n",
       "      <th>4</th>\n",
       "      <td>d</td>\n",
       "    </tr>\n",
       "    <tr>\n",
       "      <th>5</th>\n",
       "      <td>f</td>\n",
       "    </tr>\n",
       "  </tbody>\n",
       "</table>\n",
       "</div>"
      ],
      "text/plain": [
       "  index\n",
       "0     a\n",
       "1     b\n",
       "2     c\n",
       "3     e\n",
       "4     d\n",
       "5     f"
      ]
     },
     "execution_count": 32,
     "metadata": {},
     "output_type": "execute_result"
    }
   ],
   "source": [
    "# 3. How to convert the index of a series into a column of a dataframe?\n",
    "# Difficulty Level: L1\n",
    "\n",
    "# Convert the series ser into a dataframe with its index as another column on the dataframe.\n",
    "\n",
    "# Input\n",
    "\n",
    "mylist = list('abcedfghijklmnopqrstuvwxyz')\n",
    "myarr = np.arange(26)\n",
    "mydict = dict(zip(mylist, myarr))\n",
    "ser = pd.Series(mydict)\n",
    "# Solution 1\n",
    "df = pd.DataFrame(ser.index, columns=['alphabets'])\n",
    "# Solution 2\n",
    "ser.to_frame().reset_index().loc[:, ['index']][:6]"
   ]
  },
  {
   "cell_type": "code",
   "execution_count": 47,
   "id": "b31c9326",
   "metadata": {},
   "outputs": [
    {
     "data": {
      "text/html": [
       "<div>\n",
       "<style scoped>\n",
       "    .dataframe tbody tr th:only-of-type {\n",
       "        vertical-align: middle;\n",
       "    }\n",
       "\n",
       "    .dataframe tbody tr th {\n",
       "        vertical-align: top;\n",
       "    }\n",
       "\n",
       "    .dataframe thead th {\n",
       "        text-align: right;\n",
       "    }\n",
       "</style>\n",
       "<table border=\"1\" class=\"dataframe\">\n",
       "  <thead>\n",
       "    <tr style=\"text-align: right;\">\n",
       "      <th></th>\n",
       "      <th>0</th>\n",
       "      <th>1</th>\n",
       "    </tr>\n",
       "  </thead>\n",
       "  <tbody>\n",
       "    <tr>\n",
       "      <th>0</th>\n",
       "      <td>a</td>\n",
       "      <td>0</td>\n",
       "    </tr>\n",
       "    <tr>\n",
       "      <th>1</th>\n",
       "      <td>b</td>\n",
       "      <td>1</td>\n",
       "    </tr>\n",
       "    <tr>\n",
       "      <th>2</th>\n",
       "      <td>c</td>\n",
       "      <td>2</td>\n",
       "    </tr>\n",
       "    <tr>\n",
       "      <th>3</th>\n",
       "      <td>e</td>\n",
       "      <td>3</td>\n",
       "    </tr>\n",
       "    <tr>\n",
       "      <th>4</th>\n",
       "      <td>d</td>\n",
       "      <td>4</td>\n",
       "    </tr>\n",
       "  </tbody>\n",
       "</table>\n",
       "</div>"
      ],
      "text/plain": [
       "   0  1\n",
       "0  a  0\n",
       "1  b  1\n",
       "2  c  2\n",
       "3  e  3\n",
       "4  d  4"
      ]
     },
     "execution_count": 47,
     "metadata": {},
     "output_type": "execute_result"
    }
   ],
   "source": [
    "# 4. How to combine many series to form a dataframe?\n",
    "# Difficulty Level: L1\n",
    "\n",
    "# Combine ser1 and ser2 to form a dataframe.\n",
    "\n",
    "# Input\n",
    "ser1 = pd.Series(list('abcedfghijklmnopqrstuvwxyz'))\n",
    "ser2 = pd.Series(np.arange(26))\n",
    "\n",
    "# Solution 1\n",
    "df = pd.DataFrame(data={\n",
    "    \"alphabets\": ser1,\n",
    "    \"integers\": ser2\n",
    "})\n",
    "\n",
    "# Solution 2\n",
    "pd.concat([ser1, ser2], axis=1).head()"
   ]
  },
  {
   "cell_type": "code",
   "execution_count": 49,
   "id": "8de6cc13",
   "metadata": {},
   "outputs": [
    {
     "data": {
      "text/plain": [
       "0    a\n",
       "1    b\n",
       "2    c\n",
       "3    e\n",
       "4    d\n",
       "Name: alphabets, dtype: object"
      ]
     },
     "execution_count": 49,
     "metadata": {},
     "output_type": "execute_result"
    }
   ],
   "source": [
    "# 5. How to assign name to the series’ index?\n",
    "# Difficulty Level: L1\n",
    "\n",
    "# Give a name to the series ser calling it ‘alphabets’.\n",
    "\n",
    "# Input\n",
    "\n",
    "ser = pd.Series(list('abcedfghijklmnopqrstuvwxyz'))\n",
    "ser.name = 'alphabets'\n",
    "ser[:5]"
   ]
  },
  {
   "cell_type": "code",
   "execution_count": 52,
   "id": "cc8669a1",
   "metadata": {},
   "outputs": [
    {
     "data": {
      "text/plain": [
       "0    1\n",
       "1    2\n",
       "2    3\n",
       "dtype: int64"
      ]
     },
     "execution_count": 52,
     "metadata": {},
     "output_type": "execute_result"
    }
   ],
   "source": [
    "# 6. How to get the items of series A not present in series B?\n",
    "# Difficulty Level: L2\n",
    "\n",
    "# From ser1 remove items present in ser2.\n",
    "\n",
    "ser1 = pd.Series([1, 2, 3, 4, 5])\n",
    "ser2 = pd.Series([4, 5, 6, 7, 8])\n",
    "ser1[~(ser1.isin(ser2))]"
   ]
  },
  {
   "cell_type": "code",
   "execution_count": 64,
   "id": "4290a98a",
   "metadata": {},
   "outputs": [
    {
     "name": "stdout",
     "output_type": "stream",
     "text": [
      "0    1\n",
      "1    2\n",
      "2    3\n",
      "2    6\n",
      "3    7\n",
      "4    8\n",
      "dtype: int64\n"
     ]
    },
    {
     "data": {
      "text/plain": [
       "0    1\n",
       "1    2\n",
       "2    3\n",
       "5    6\n",
       "6    7\n",
       "7    8\n",
       "dtype: int64"
      ]
     },
     "execution_count": 64,
     "metadata": {},
     "output_type": "execute_result"
    }
   ],
   "source": [
    "# 7. How to get the items not common to both series A and series B?\n",
    "# Difficulty Level: L2\n",
    "# Get all items of ser1 and ser2 not common to both.\n",
    "\n",
    "# Input\n",
    "\n",
    "ser1 = pd.Series([1, 2, 3, 4, 5])\n",
    "ser2 = pd.Series([4, 5, 6, 7, 8])\n",
    "\n",
    "# Solution 1\n",
    "unique_ser1 = ser1[~(ser1.isin(ser2))]\n",
    "unique_ser2 = ser2[~(ser2.isin(ser1))]\n",
    "print(pd.concat([unique_ser1, unique_ser2]))\n",
    "\n",
    "# Solution 2\n",
    "ser_u = pd.Series(np.union1d(ser1, ser2))  # union\n",
    "ser_i = pd.Series(np.intersect1d(ser1, ser2))  # intersect\n",
    "ser_u[~ser_u.isin(ser_i)]"
   ]
  },
  {
   "cell_type": "code",
   "execution_count": 83,
   "id": "a24287ba",
   "metadata": {},
   "outputs": [
    {
     "name": "stdout",
     "output_type": "stream",
     "text": [
      "min: -2.13\n",
      "max: 21.03\n",
      "25th_percentile: 6.605569241889729\n",
      "75th_percentile: 15.879145223910516\n"
     ]
    },
    {
     "data": {
      "text/plain": [
       "array([-2.13339622,  6.60556924,  9.52645516, 15.87914522, 21.02965041])"
      ]
     },
     "execution_count": 83,
     "metadata": {},
     "output_type": "execute_result"
    }
   ],
   "source": [
    "# 8. How to get the minimum, 25th percentile, median, 75th, and max of a numeric series?\n",
    "# Difficuty Level: L2\n",
    "\n",
    "# Compute the minimum, 25th percentile, median, 75th, and maximum of ser.\n",
    "\n",
    "# Input\n",
    "np.random.seed(123)\n",
    "ser = pd.Series(np.random.normal(10, 5, 25))\n",
    "# Solution 1\n",
    "print(f'min: {round(ser.min(), 2)}')\n",
    "print(f'max: {round(ser.max(), 2)}')\n",
    "print(f'25th_percentile: {np.percentile(ser, 25)}')\n",
    "print(f'75th_percentile: {np.percentile(ser, 75)}')\n",
    "# Solution 2\n",
    "np.percentile(ser, q=[0, 25, 50, 75, 100])"
   ]
  },
  {
   "cell_type": "code",
   "execution_count": 89,
   "id": "76e08981",
   "metadata": {},
   "outputs": [
    {
     "data": {
      "text/plain": [
       "b    7\n",
       "h    6\n",
       "g    4\n",
       "a    3\n",
       "e    3\n",
       "d    3\n",
       "c    2\n",
       "f    2\n",
       "dtype: int64"
      ]
     },
     "execution_count": 89,
     "metadata": {},
     "output_type": "execute_result"
    }
   ],
   "source": [
    "# 9. How to get frequency counts of unique items of a series?\n",
    "# Difficulty Level: L1\n",
    "\n",
    "# Calculte the frequency counts of each unique value ser.\n",
    "\n",
    "# Input\n",
    "\n",
    "ser = pd.Series(np.take(list('abcdefgh'), np.random.randint(8, size=30)))\n",
    "ser.value_counts()"
   ]
  },
  {
   "cell_type": "code",
   "execution_count": 127,
   "id": "951440b2",
   "metadata": {},
   "outputs": [
    {
     "name": "stdout",
     "output_type": "stream",
     "text": [
      "0     3\n",
      "1     2\n",
      "2     3\n",
      "3     3\n",
      "4     1\n",
      "5     3\n",
      "6     3\n",
      "7     2\n",
      "8     4\n",
      "9     3\n",
      "10    4\n",
      "11    2\n",
      "dtype: int32\n",
      "3    6\n",
      "2    3\n",
      "dtype: int64\n"
     ]
    },
    {
     "data": {
      "text/plain": [
       "0         3\n",
       "1         2\n",
       "2         3\n",
       "3         3\n",
       "4     other\n",
       "5         3\n",
       "6         3\n",
       "7         2\n",
       "8     other\n",
       "9         3\n",
       "10    other\n",
       "11        2\n",
       "dtype: object"
      ]
     },
     "execution_count": 127,
     "metadata": {},
     "output_type": "execute_result"
    }
   ],
   "source": [
    "# 10. How to keep only top 2 most frequent values as it is and replace everything else as ‘Other’?\n",
    "# Difficulty Level: L2\n",
    "\n",
    "# From ser, keep the top 2 most frequent items as it is and replace everything else as ‘Other’.\n",
    "\n",
    "# Input\n",
    "\n",
    "np.random.seed(123)\n",
    "ser = pd.Series(np.random.randint(1, 5, [12]))\n",
    "print(ser)\n",
    "print(ser.value_counts().nlargest(2))\n",
    "ser[~(ser.isin(ser.value_counts().nlargest(2).index))] = 'other'\n",
    "ser"
   ]
  },
  {
   "cell_type": "code",
   "execution_count": 136,
   "id": "8c0fc22e",
   "metadata": {},
   "outputs": [
    {
     "name": "stdout",
     "output_type": "stream",
     "text": [
      "0    8th\n",
      "1    3rd\n",
      "2    2nd\n",
      "3    7th\n",
      "4    9th\n",
      "dtype: category\n",
      "Categories (10, object): ['1st' < '2nd' < '3rd' < '4th' ... '7th' < '8th' < '9th' < '10th']\n"
     ]
    }
   ],
   "source": [
    "# 1. How to bin a numeric series to 10 groups of equal size?\n",
    "# Difficulty Level: L2\n",
    "\n",
    "# Bin the series ser into 10 equal deciles and replace the values with the bin name.\n",
    "\n",
    "# Input\n",
    "np.random.seed(123)\n",
    "ser = pd.Series(np.random.random(20))\n",
    "\n",
    "# Desired Output\n",
    "\n",
    "# # First 5 items\n",
    "# 0    7th\n",
    "# 1    9th\n",
    "# 2    7th\n",
    "# 3    3rd\n",
    "# 4    8th\n",
    "# dtype: category\n",
    "# Categories (10, object): [1st < 2nd < 3rd < 4th ... 7th < 8th < 9th < 10th]\n",
    "print(\n",
    "    pd.qcut(ser,\n",
    "           q=np.arange(0, 1.1, 0.1),\n",
    "           labels=[\n",
    "               '1st', '2nd', '3rd', '4th', '5th', '6th', '7th', '8th', '9th',\n",
    "               '10th'\n",
    "           ])[:5])"
   ]
  },
  {
   "cell_type": "code",
   "execution_count": 144,
   "id": "a5804fa4",
   "metadata": {},
   "outputs": [
    {
     "name": "stdout",
     "output_type": "stream",
     "text": [
      "   0  1  2  3  4\n",
      "0  1  3  7  6  2\n",
      "1  6  4  7  5  8\n",
      "2  2  7  1  4  2\n",
      "3  4  1  9  6  2\n",
      "4  5  4  3  3  1\n",
      "=====================\n",
      "   0  1  2  3  4\n",
      "0  1  3  7  6  2\n",
      "1  6  4  7  5  8\n",
      "2  2  7  1  4  2\n",
      "3  4  1  9  6  2\n",
      "4  5  4  3  3  1\n"
     ]
    }
   ],
   "source": [
    "# 12. How to convert a numpy array to a dataframe of given shape? (L1)\n",
    "# Difficulty Level: L1\n",
    "\n",
    "# Reshape the series ser into a dataframe with 7 rows and 5 columns\n",
    "\n",
    "# Input\n",
    "\n",
    "# Solution 1\n",
    "ser = pd.Series(np.random.randint(1, 10, 35))\n",
    "print(pd.DataFrame(np.array(ser).reshape((7, 5))).head())\n",
    "print('=====================')\n",
    "# Solution 2\n",
    "df = pd.DataFrame(ser.values.reshape(7,5))\n",
    "print(df.head())"
   ]
  },
  {
   "cell_type": "code",
   "execution_count": 165,
   "id": "5a33ace6",
   "metadata": {},
   "outputs": [
    {
     "name": "stdout",
     "output_type": "stream",
     "text": [
      "0    3\n",
      "1    3\n",
      "2    7\n",
      "3    2\n",
      "4    4\n",
      "5    7\n",
      "6    2\n",
      "dtype: int32\n",
      "===============\n",
      "Int64Index([0, 1], dtype='int64')\n"
     ]
    },
    {
     "data": {
      "text/plain": [
       "array([[0],\n",
       "       [1]], dtype=int64)"
      ]
     },
     "execution_count": 165,
     "metadata": {},
     "output_type": "execute_result"
    }
   ],
   "source": [
    "# 13. How to find the positions of numbers that are multiples of 3 from a series?\n",
    "# Difficulty Level: L2\n",
    "\n",
    "# Find the positions of numbers that are multiples of 3 from ser.\n",
    "\n",
    "# Input\n",
    "np.random.seed(123)\n",
    "ser = pd.Series(np.random.randint(1, 10, 7))\n",
    "print(ser)\n",
    "print('===============')\n",
    "# Solution 1\n",
    "print(ser[ser % 3 == 0].index)\n",
    "# Solution 2\n",
    "np.argwhere(np.array(ser) % 3 == 0)"
   ]
  },
  {
   "cell_type": "code",
   "execution_count": 169,
   "id": "3d01f665",
   "metadata": {},
   "outputs": [
    {
     "name": "stdout",
     "output_type": "stream",
     "text": [
      "0     a\n",
      "4     e\n",
      "8     i\n",
      "14    o\n",
      "20    u\n",
      "dtype: object\n",
      "0     a\n",
      "4     e\n",
      "8     i\n",
      "14    o\n",
      "20    u\n",
      "dtype: object\n"
     ]
    }
   ],
   "source": [
    "# 14. How to extract items at given positions from a series\n",
    "# Difficulty Level: L1\n",
    "\n",
    "# From ser, extract the items at positions in list pos.\n",
    "\n",
    "# Input\n",
    "\n",
    "ser = pd.Series(list('abcdefghijklmnopqrstuvwxyz'))\n",
    "pos = [0, 4, 8, 14, 20]\n",
    "# Solution 1\n",
    "print(ser[pos])\n",
    "# Solution 2\n",
    "print(np.take(ser, pos))"
   ]
  },
  {
   "cell_type": "code",
   "execution_count": 171,
   "id": "d76de94e",
   "metadata": {},
   "outputs": [
    {
     "name": "stdout",
     "output_type": "stream",
     "text": [
      "0    0\n",
      "1    1\n",
      "2    2\n",
      "3    3\n",
      "4    4\n",
      "0    a\n",
      "1    b\n",
      "2    c\n",
      "3    d\n",
      "4    e\n",
      "dtype: object\n",
      "   0  1\n",
      "0  0  a\n",
      "1  1  b\n",
      "2  2  c\n",
      "3  3  d\n",
      "4  4  e\n"
     ]
    }
   ],
   "source": [
    "# 15. How to stack two series vertically and horizontally ?\n",
    "# Difficulty Level: L1\n",
    "\n",
    "# Stack ser1 and ser2 vertically and horizontally (to form a dataframe).\n",
    "\n",
    "# Input\n",
    "\n",
    "ser1 = pd.Series(range(5))\n",
    "ser2 = pd.Series(list('abcde'))\n",
    "print(pd.concat([ser1, ser2]))\n",
    "print(pd.concat([ser1, ser2], axis=1))"
   ]
  }
 ],
 "metadata": {
  "kernelspec": {
   "display_name": "Python 3 (ipykernel)",
   "language": "python",
   "name": "python3"
  },
  "language_info": {
   "codemirror_mode": {
    "name": "ipython",
    "version": 3
   },
   "file_extension": ".py",
   "mimetype": "text/x-python",
   "name": "python",
   "nbconvert_exporter": "python",
   "pygments_lexer": "ipython3",
   "version": "3.7.9"
  }
 },
 "nbformat": 4,
 "nbformat_minor": 5
}
